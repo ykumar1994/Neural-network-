{
 "cells": [
  {
   "cell_type": "markdown",
   "id": "3a1c4145",
   "metadata": {},
   "source": [
    "# Stock Market Analysis 📈 and  Prediction using LSTM"
   ]
  },
  {
   "cell_type": "code",
   "execution_count": 16,
   "id": "6676bf09",
   "metadata": {},
   "outputs": [],
   "source": [
    "import pandas as pd\n",
    "import numpy as np\n",
    "from datetime import datetime"
   ]
  },
  {
   "cell_type": "code",
   "execution_count": 10,
   "id": "632d86ac",
   "metadata": {},
   "outputs": [
    {
     "name": "stdout",
     "output_type": "stream",
     "text": [
      "Requirement already satisfied: yfinance in c:\\users\\yogi\\anaconda3\\lib\\site-packages (0.2.12)\n",
      "Requirement already satisfied: pandas>=1.3.0 in c:\\users\\yogi\\anaconda3\\lib\\site-packages (from yfinance) (1.3.4)\n",
      "Requirement already satisfied: multitasking>=0.0.7 in c:\\users\\yogi\\anaconda3\\lib\\site-packages (from yfinance) (0.0.11)\n",
      "Requirement already satisfied: html5lib>=1.1 in c:\\users\\yogi\\anaconda3\\lib\\site-packages (from yfinance) (1.1)\n",
      "Requirement already satisfied: beautifulsoup4>=4.11.1 in c:\\users\\yogi\\anaconda3\\lib\\site-packages (from yfinance) (4.12.0)\n",
      "Requirement already satisfied: numpy>=1.16.5 in c:\\users\\yogi\\anaconda3\\lib\\site-packages (from yfinance) (1.20.3)\n",
      "Requirement already satisfied: appdirs>=1.4.4 in c:\\users\\yogi\\anaconda3\\lib\\site-packages (from yfinance) (1.4.4)\n",
      "Requirement already satisfied: requests>=2.26 in c:\\users\\yogi\\anaconda3\\lib\\site-packages (from yfinance) (2.26.0)\n",
      "Requirement already satisfied: frozendict>=2.3.4 in c:\\users\\yogi\\anaconda3\\lib\\site-packages (from yfinance) (2.3.5)\n",
      "Requirement already satisfied: pytz>=2022.5 in c:\\users\\yogi\\anaconda3\\lib\\site-packages (from yfinance) (2022.7.1)\n",
      "Requirement already satisfied: cryptography>=3.3.2 in c:\\users\\yogi\\anaconda3\\lib\\site-packages (from yfinance) (3.4.8)\n",
      "Requirement already satisfied: lxml>=4.9.1 in c:\\users\\yogi\\anaconda3\\lib\\site-packages (from yfinance) (4.9.2)\n",
      "Requirement already satisfied: soupsieve>1.2 in c:\\users\\yogi\\anaconda3\\lib\\site-packages (from beautifulsoup4>=4.11.1->yfinance) (2.2.1)\n",
      "Requirement already satisfied: cffi>=1.12 in c:\\users\\yogi\\anaconda3\\lib\\site-packages (from cryptography>=3.3.2->yfinance) (1.14.6)\n",
      "Requirement already satisfied: pycparser in c:\\users\\yogi\\anaconda3\\lib\\site-packages (from cffi>=1.12->cryptography>=3.3.2->yfinance) (2.20)\n",
      "Requirement already satisfied: six>=1.9 in c:\\users\\yogi\\anaconda3\\lib\\site-packages (from html5lib>=1.1->yfinance) (1.16.0)\n",
      "Requirement already satisfied: webencodings in c:\\users\\yogi\\anaconda3\\lib\\site-packages (from html5lib>=1.1->yfinance) (0.5.1)\n",
      "Requirement already satisfied: python-dateutil>=2.7.3 in c:\\users\\yogi\\anaconda3\\lib\\site-packages (from pandas>=1.3.0->yfinance) (2.8.2)\n",
      "Requirement already satisfied: urllib3<1.27,>=1.21.1 in c:\\users\\yogi\\anaconda3\\lib\\site-packages (from requests>=2.26->yfinance) (1.26.7)\n",
      "Requirement already satisfied: charset-normalizer~=2.0.0 in c:\\users\\yogi\\anaconda3\\lib\\site-packages (from requests>=2.26->yfinance) (2.0.4)\n",
      "Requirement already satisfied: idna<4,>=2.5 in c:\\users\\yogi\\anaconda3\\lib\\site-packages (from requests>=2.26->yfinance) (3.2)\n",
      "Requirement already satisfied: certifi>=2017.4.17 in c:\\users\\yogi\\anaconda3\\lib\\site-packages (from requests>=2.26->yfinance) (2021.10.8)\n"
     ]
    }
   ],
   "source": [
    "!pip install yfinance\n",
    "import yfinance as yf\n",
    "\n",
    "!pip install pandas-datareader\n",
    "\n",
    "import pandas_datareader\n",
    "from pandas_datareader.data import DataReader\n",
    "from pandas_datareader import data as pdr"
   ]
  },
  {
   "cell_type": "code",
   "execution_count": 26,
   "id": "8fd75103",
   "metadata": {},
   "outputs": [
    {
     "name": "stdout",
     "output_type": "stream",
     "text": [
      "[*********************100%***********************]  1 of 1 completed\n",
      "[*********************100%***********************]  1 of 1 completed\n",
      "[*********************100%***********************]  1 of 1 completed\n",
      "[*********************100%***********************]  1 of 1 completed\n",
      "                  Open        High         Low       Close   Adj Close  \\\n",
      "Date                                                                     \n",
      "2022-03-21  163.509995  166.350006  163.009995  165.380005  164.384201   \n",
      "2022-03-22  165.509995  169.419998  164.910004  168.820007  167.803497   \n",
      "2022-03-23  167.990005  172.639999  167.649994  170.210007  169.185135   \n",
      "2022-03-24  171.059998  174.139999  170.210007  174.070007  173.021881   \n",
      "2022-03-25  173.880005  175.279999  172.750000  174.720001  173.667969   \n",
      "...                ...         ...         ...         ...         ...   \n",
      "2023-03-14  151.279999  153.399994  150.100006  152.589996  152.589996   \n",
      "2023-03-15  151.190002  153.250000  149.919998  152.990005  152.990005   \n",
      "2023-03-16  152.160004  156.460007  151.639999  155.850006  155.850006   \n",
      "2023-03-17  156.080002  156.740005  154.279999  155.000000  155.000000   \n",
      "2023-03-20  155.070007  157.820007  154.149994  157.399994  157.399994   \n",
      "\n",
      "              Volume  \n",
      "Date                  \n",
      "2022-03-21  95811400  \n",
      "2022-03-22  81532000  \n",
      "2022-03-23  98062700  \n",
      "2022-03-24  90131400  \n",
      "2022-03-25  80546200  \n",
      "...              ...  \n",
      "2023-03-14  73695900  \n",
      "2023-03-15  77167900  \n",
      "2023-03-16  76161100  \n",
      "2023-03-17  98862500  \n",
      "2023-03-20  73556400  \n",
      "\n",
      "[251 rows x 6 columns]\n"
     ]
    }
   ],
   "source": [
    "yf.pdr_override()\n",
    "\n",
    "end_date = datetime.now()\n",
    "start_date = datetime(end.year - 1, end.month, end.day)\n",
    "\n",
    "AAPL = pdr.DataReader('AAPL', start=start_date, end=end_date)\n",
    "GOOG= pdr.DataReader('GOOG', start=start_date, end=end_date)\n",
    "MSFT = pdr.DataReader('MSFT', start=start_date, end=end_date)\n",
    "AMZN = pdr.DataReader('AMZN', start=start_date, end=end_date)\n",
    "\n",
    "print(AAPL)"
   ]
  },
  {
   "cell_type": "code",
   "execution_count": 29,
   "id": "2b67daa5",
   "metadata": {},
   "outputs": [],
   "source": [
    "APPL[\"stock_name\"]=\"Apple\"\n",
    "GOOG[\"stock_name\"]=\"Google\"\n",
    "MSFT [\"stock_name\"]=\"Microsoft\"\n",
    "AMZN[\"stock_name\"]=\"Amazon\""
   ]
  },
  {
   "cell_type": "code",
   "execution_count": 32,
   "id": "2f1270fa",
   "metadata": {},
   "outputs": [
    {
     "name": "stdout",
     "output_type": "stream",
     "text": [
      "                  Open        High         Low       Close   Adj Close  \\\n",
      "Date                                                                     \n",
      "2022-03-21  163.509995  166.350006  163.009995  165.380005  164.384216   \n",
      "2022-03-22  165.509995  169.419998  164.910004  168.820007  167.803497   \n",
      "2022-03-23  167.990005  172.639999  167.649994  170.210007  169.185120   \n",
      "2022-03-24  171.059998  174.139999  170.210007  174.070007  173.021896   \n",
      "2022-03-25  173.880005  175.279999  172.750000  174.720001  173.667984   \n",
      "...                ...         ...         ...         ...         ...   \n",
      "2023-03-14   93.830002   95.070000   92.709999   94.879997   94.879997   \n",
      "2023-03-15   93.220001   96.669998   93.070000   96.199997   96.199997   \n",
      "2023-03-16   95.750000  100.989998   95.610001  100.040001  100.040001   \n",
      "2023-03-17   99.790001  100.660004   97.459999   98.949997   98.949997   \n",
      "2023-03-20   98.410004   98.480003   95.699997   97.709999   97.709999   \n",
      "\n",
      "              Volume stock_name  \n",
      "Date                             \n",
      "2022-03-21  95811400      Apple  \n",
      "2022-03-22  81532000      Apple  \n",
      "2022-03-23  98062700      Apple  \n",
      "2022-03-24  90131400      Apple  \n",
      "2022-03-25  80546200      Apple  \n",
      "...              ...        ...  \n",
      "2023-03-14  60912700     Amazon  \n",
      "2023-03-15  70731800     Amazon  \n",
      "2023-03-16  84446900     Amazon  \n",
      "2023-03-17  87173200     Amazon  \n",
      "2023-03-20  62305400     Amazon  \n",
      "\n",
      "[1004 rows x 7 columns]\n"
     ]
    }
   ],
   "source": [
    "df=pd.concat([APPL,GOOG,MSFT,AMZN],axis=0)\n",
    "print(df)"
   ]
  },
  {
   "cell_type": "code",
   "execution_count": null,
   "id": "f67b1a65",
   "metadata": {},
   "outputs": [],
   "source": []
  }
 ],
 "metadata": {
  "kernelspec": {
   "display_name": "Python 3 (ipykernel)",
   "language": "python",
   "name": "python3"
  },
  "language_info": {
   "codemirror_mode": {
    "name": "ipython",
    "version": 3
   },
   "file_extension": ".py",
   "mimetype": "text/x-python",
   "name": "python",
   "nbconvert_exporter": "python",
   "pygments_lexer": "ipython3",
   "version": "3.9.7"
  }
 },
 "nbformat": 4,
 "nbformat_minor": 5
}
